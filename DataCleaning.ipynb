{
 "cells": [
  {
   "cell_type": "code",
   "execution_count": 1,
   "id": "9ab9face",
   "metadata": {},
   "outputs": [],
   "source": [
    "import pandas as pd\n",
    "import numpy as np\n",
    "import re\n",
    "# pip install demoji==1.1.0\n",
    "import demoji"
   ]
  },
  {
   "cell_type": "code",
   "execution_count": 2,
   "id": "4a2d8d89",
   "metadata": {},
   "outputs": [
    {
     "data": {
      "text/html": [
       "<div>\n",
       "<style scoped>\n",
       "    .dataframe tbody tr th:only-of-type {\n",
       "        vertical-align: middle;\n",
       "    }\n",
       "\n",
       "    .dataframe tbody tr th {\n",
       "        vertical-align: top;\n",
       "    }\n",
       "\n",
       "    .dataframe thead th {\n",
       "        text-align: right;\n",
       "    }\n",
       "</style>\n",
       "<table border=\"1\" class=\"dataframe\">\n",
       "  <thead>\n",
       "    <tr style=\"text-align: right;\">\n",
       "      <th></th>\n",
       "      <th>sentiment</th>\n",
       "      <th>message</th>\n",
       "    </tr>\n",
       "  </thead>\n",
       "  <tbody>\n",
       "    <tr>\n",
       "      <th>0</th>\n",
       "      <td>Bullish</td>\n",
       "      <td>$AAPL $SPY $TQQQ $SOXL $AMZN \\n🤑 V shape recov...</td>\n",
       "    </tr>\n",
       "    <tr>\n",
       "      <th>1</th>\n",
       "      <td>Bullish</td>\n",
       "      <td>$AAPL $SPY $AMZN $TQQQ $SOXL \\nApple Is Seeing...</td>\n",
       "    </tr>\n",
       "    <tr>\n",
       "      <th>2</th>\n",
       "      <td>Bullish</td>\n",
       "      <td>$AMZN $SPY $AAPL $GOOGL $TQQQ \\n🎉 Wow~ Amazon&amp;...</td>\n",
       "    </tr>\n",
       "  </tbody>\n",
       "</table>\n",
       "</div>"
      ],
      "text/plain": [
       "  sentiment                                            message\n",
       "0   Bullish  $AAPL $SPY $TQQQ $SOXL $AMZN \\n🤑 V shape recov...\n",
       "1   Bullish  $AAPL $SPY $AMZN $TQQQ $SOXL \\nApple Is Seeing...\n",
       "2   Bullish  $AMZN $SPY $AAPL $GOOGL $TQQQ \\n🎉 Wow~ Amazon&..."
      ]
     },
     "execution_count": 2,
     "metadata": {},
     "output_type": "execute_result"
    }
   ],
   "source": [
    "data = pd.read_csv(\"./data/processed.csv\", usecols=[\"message\", \"sentiment\"])\n",
    "data.head(3)"
   ]
  },
  {
   "cell_type": "code",
   "execution_count": 3,
   "id": "b4b28266",
   "metadata": {},
   "outputs": [
    {
     "name": "stdout",
     "output_type": "stream",
     "text": [
      "<class 'pandas.core.frame.DataFrame'>\n",
      "RangeIndex: 4102 entries, 0 to 4101\n",
      "Data columns (total 2 columns):\n",
      " #   Column     Non-Null Count  Dtype \n",
      "---  ------     --------------  ----- \n",
      " 0   sentiment  4102 non-null   object\n",
      " 1   message    4102 non-null   object\n",
      "dtypes: object(2)\n",
      "memory usage: 64.2+ KB\n"
     ]
    }
   ],
   "source": [
    "data.info()"
   ]
  },
  {
   "cell_type": "code",
   "execution_count": 4,
   "id": "46c70592",
   "metadata": {},
   "outputs": [],
   "source": [
    "# open the STOPWORDS file in read mode\n",
    "with open(r'./data/stopwords.txt', 'r') as fp:\n",
    "    STOPWORDS = [i.strip() for i in fp.readlines()]"
   ]
  },
  {
   "cell_type": "code",
   "execution_count": 5,
   "id": "37f6e336",
   "metadata": {},
   "outputs": [
    {
     "data": {
      "text/plain": [
       "['be', 'this', 'hereupon', 'indeed', 'became']"
      ]
     },
     "execution_count": 5,
     "metadata": {},
     "output_type": "execute_result"
    }
   ],
   "source": [
    "STOPWORDS[:5]"
   ]
  },
  {
   "cell_type": "code",
   "execution_count": 7,
   "id": "9be64c61",
   "metadata": {},
   "outputs": [
    {
     "data": {
      "text/plain": [
       "'$AAPL $SPY $TQQQ $SOXL $AMZN \\n🤑 V shape recovery Monday. 🚀🚀\\n\\nAnalyst Price Target on AAPL\\nBased on 27 Wall Street analysts offering 12 month price targets for Apple in the last 3 months. The average price target is $187.22 with a high forecast of $210.00 and a low forecast of $157.00. The average price target represents a 36.53% change from the last price of $137.13\\n\\nhttps://www.tipranks.com/stocks/aapl/forecast'"
      ]
     },
     "execution_count": 7,
     "metadata": {},
     "output_type": "execute_result"
    }
   ],
   "source": [
    "sample = data[\"message\"].loc[0]\n",
    "sample"
   ]
  },
  {
   "cell_type": "code",
   "execution_count": 8,
   "id": "35af81c4",
   "metadata": {},
   "outputs": [
    {
     "name": "stdout",
     "output_type": "stream",
     "text": [
      "$AAPL $SPY $TQQQ $SOXL $AMZN \n",
      " money-mouth face  V shape recovery Monday.  rocket  rocket \n",
      "\n",
      "Analyst Price Target on AAPL\n",
      "Based on 27 Wall Street analysts offering 12 month price targets for Apple in the last 3 months. The average price target is $187.22 with a high forecast of $210.00 and a low forecast of $157.00. The average price target represents a 36.53% change from the last price of $137.13\n",
      "\n",
      "https://www.tipranks.com/stocks/aapl/forecast\n"
     ]
    }
   ],
   "source": [
    "# Demojisation: convert emoji to corresponding description\n",
    "def demojise(text):\n",
    "    return demoji.replace_with_desc(text, sep = \" \")\n",
    "\n",
    "print(demojise(sample))"
   ]
  },
  {
   "cell_type": "code",
   "execution_count": 9,
   "id": "11a522fa",
   "metadata": {},
   "outputs": [
    {
     "name": "stdout",
     "output_type": "stream",
     "text": [
      "$AAPL $SPY $TQQQ $SOXL $AMZN \n",
      "🤑 V shape recovery Monday. 🚀🚀\n",
      "\n",
      "Analyst Price Target on AAPL\n",
      "Based on 27 Wall Street analysts offering 12 month price targets for Apple in the last 3 months. The average price target is $187.22 with a high forecast of $210.00 and a low forecast of $157.00. The average price target represents a 36.53% change from the last price of $137.13\n",
      "\n",
      "\n"
     ]
    }
   ],
   "source": [
    "# remove urls\n",
    "def remove_urls(text):\n",
    "    return re.sub(r'^https?:\\/\\/.*[\\r\\n]*', '', text, flags=re.MULTILINE)\n",
    "\n",
    "print(remove_urls(sample))"
   ]
  },
  {
   "cell_type": "code",
   "execution_count": 11,
   "id": "470d6619",
   "metadata": {},
   "outputs": [
    {
     "name": "stdout",
     "output_type": "stream",
     "text": [
      "🤑 V shape recovery Monday. 🚀🚀 Analyst Price Target on AAPL Based on 27 Wall Street analysts offering 12 month price targets for Apple in the last 3 months. The average price target is $187.22 with a high forecast of $210.00 and a low forecast of $157.00. The average price target represents a 36.53% change from the last price of $137.13 https://www.tipranks.com/stocks/aapl/forecast\n"
     ]
    }
   ],
   "source": [
    "# remove companies tags\n",
    "def remove_tags(text):\n",
    "    all_tags_with_dollar_sign = re.findall(r\"\\$\\w+\", text)\n",
    "    filtered_tags = []\n",
    "    for i in all_tags_with_dollar_sign:\n",
    "        try:\n",
    "            converttoint = int(i[1:])\n",
    "        except:\n",
    "            filtered_tags.append(i)\n",
    "    return \" \".join([i for i in text.split() if i not in filtered_tags])\n",
    "\n",
    "print(remove_tags(sample))"
   ]
  },
  {
   "cell_type": "code",
   "execution_count": 12,
   "id": "389d6da6",
   "metadata": {},
   "outputs": [
    {
     "name": "stdout",
     "output_type": "stream",
     "text": [
      "$AAPL $SPY $TQQQ $SOXL $AMZN 🤑 V shape recovery Monday. 🚀🚀 Analyst Price Target AAPL Based 27 Wall Street analysts offering 12 month price targets Apple 3 months. average price target $187.22 high forecast $210.00 low forecast $157.00. average price target represents 36.53% change price $137.13 https://www.tipranks.com/stocks/aapl/forecast\n"
     ]
    }
   ],
   "source": [
    "# remove stopwords\n",
    "def remove_stopwords(text):\n",
    "    return \" \".join([i for i in text.split() if i.lower() not in STOPWORDS])\n",
    "\n",
    "print(remove_stopwords(sample))"
   ]
  },
  {
   "cell_type": "code",
   "execution_count": 13,
   "id": "84ef1d07",
   "metadata": {},
   "outputs": [
    {
     "name": "stdout",
     "output_type": "stream",
     "text": [
      " AAPL  SPY  TQQQ  SOXL  AMZN \n",
      "  V shape recovery Monday    \n",
      "\n",
      "Analyst Price Target on AAPL\n",
      "Based on 27 Wall Street analysts offering 12 month price targets for Apple in the last 3 months  The average price target is  187 22 with a high forecast of  210 00 and a low forecast of  157 00  The average price target represents a 36 53  change from the last price of  137 13\n",
      "\n",
      "https   www tipranks com stocks aapl forecast\n"
     ]
    }
   ],
   "source": [
    "# remove punctuations\n",
    "def remove_puncts(text):\n",
    "    return re.sub(r'[^\\w\\s]', \" \", text)\n",
    "\n",
    "print(remove_puncts(sample))"
   ]
  },
  {
   "cell_type": "code",
   "execution_count": 14,
   "id": "1928635a",
   "metadata": {},
   "outputs": [
    {
     "name": "stdout",
     "output_type": "stream",
     "text": [
      "AAPL SPY TQQQ SOXL AMZN V shape recovery Monday Analyst Price Target on AAPL Based on Wall Street analysts offering month price targets for Apple in the last months The average price target is with a high forecast of and a low forecast of The average price target represents a change from the last price of https www tipranks com stocks aapl forecast\n"
     ]
    }
   ],
   "source": [
    "# remove numerical signs\n",
    "def remove_nums(text):\n",
    "    return \" \".join([i for i in text.split() if not i.isdigit()])\n",
    "\n",
    "print(remove_nums(remove_puncts(sample)))"
   ]
  },
  {
   "cell_type": "code",
   "execution_count": 16,
   "id": "3855a852",
   "metadata": {},
   "outputs": [],
   "source": [
    "def text_clean(text: str):\n",
    "    text = demojise(text)\n",
    "    text = remove_urls(text)\n",
    "    text = remove_tags(text)\n",
    "    text = remove_stopwords(text)\n",
    "    text = remove_puncts(text)\n",
    "    text = remove_nums(text)\n",
    "    return text.lower()"
   ]
  },
  {
   "cell_type": "code",
   "execution_count": 17,
   "id": "3b5783fe",
   "metadata": {},
   "outputs": [
    {
     "data": {
      "text/plain": [
       "'money mouth face v shape recovery monday rocket rocket analyst price target aapl based wall street analysts offering month price targets apple months average price target high forecast low forecast average price target represents change price'"
      ]
     },
     "execution_count": 17,
     "metadata": {},
     "output_type": "execute_result"
    }
   ],
   "source": [
    "text_clean(sample)"
   ]
  },
  {
   "cell_type": "code",
   "execution_count": 18,
   "id": "1ff433fd",
   "metadata": {},
   "outputs": [],
   "source": [
    "# clean all messages\n",
    "data[\"cleaned_messsage\"] = data[\"message\"].apply(text_clean)"
   ]
  },
  {
   "cell_type": "code",
   "execution_count": 20,
   "id": "2a73efb3",
   "metadata": {},
   "outputs": [
    {
     "data": {
      "text/html": [
       "<div>\n",
       "<style scoped>\n",
       "    .dataframe tbody tr th:only-of-type {\n",
       "        vertical-align: middle;\n",
       "    }\n",
       "\n",
       "    .dataframe tbody tr th {\n",
       "        vertical-align: top;\n",
       "    }\n",
       "\n",
       "    .dataframe thead th {\n",
       "        text-align: right;\n",
       "    }\n",
       "</style>\n",
       "<table border=\"1\" class=\"dataframe\">\n",
       "  <thead>\n",
       "    <tr style=\"text-align: right;\">\n",
       "      <th></th>\n",
       "      <th>sentiment</th>\n",
       "      <th>message</th>\n",
       "      <th>cleaned_messsage</th>\n",
       "    </tr>\n",
       "  </thead>\n",
       "  <tbody>\n",
       "    <tr>\n",
       "      <th>0</th>\n",
       "      <td>Bullish</td>\n",
       "      <td>$AAPL $SPY $TQQQ $SOXL $AMZN \\n🤑 V shape recov...</td>\n",
       "      <td>money mouth face v shape recovery monday rocke...</td>\n",
       "    </tr>\n",
       "    <tr>\n",
       "      <th>1</th>\n",
       "      <td>Bullish</td>\n",
       "      <td>$AAPL $SPY $AMZN $TQQQ $SOXL \\nApple Is Seeing...</td>\n",
       "      <td>apple seeing strong china demand iphones analy...</td>\n",
       "    </tr>\n",
       "  </tbody>\n",
       "</table>\n",
       "</div>"
      ],
      "text/plain": [
       "  sentiment                                            message  \\\n",
       "0   Bullish  $AAPL $SPY $TQQQ $SOXL $AMZN \\n🤑 V shape recov...   \n",
       "1   Bullish  $AAPL $SPY $AMZN $TQQQ $SOXL \\nApple Is Seeing...   \n",
       "\n",
       "                                    cleaned_messsage  \n",
       "0  money mouth face v shape recovery monday rocke...  \n",
       "1  apple seeing strong china demand iphones analy...  "
      ]
     },
     "execution_count": 20,
     "metadata": {},
     "output_type": "execute_result"
    }
   ],
   "source": [
    "data.head(2)"
   ]
  },
  {
   "cell_type": "code",
   "execution_count": 21,
   "id": "1fb81dc3",
   "metadata": {},
   "outputs": [
    {
     "data": {
      "text/plain": [
       "('$AMZN $SPY $AAPL $GOOGL $TQQQ \\n🎉 Wow~ Amazon&#39; new PT: $180\\nMarket turn around Monday 🥳\\n\\nhttps://www.google.com/amp/s/pulse2.com/amazon-amzn-stock-price-180-target-and-buy-rating/amp/',\n",
       " 'party popper wow amazon new pt market turn monday partying face',\n",
       " 'Bullish')"
      ]
     },
     "execution_count": 21,
     "metadata": {},
     "output_type": "execute_result"
    }
   ],
   "source": [
    "data.loc[2][\"message\"], data.loc[2][\"cleaned_messsage\"], data.loc[2][\"sentiment\"]"
   ]
  },
  {
   "cell_type": "code",
   "execution_count": 22,
   "id": "5ce5f20f",
   "metadata": {},
   "outputs": [],
   "source": [
    "def count_takens(text):\n",
    "    return len(text.split())"
   ]
  },
  {
   "cell_type": "code",
   "execution_count": 23,
   "id": "a7cdb3aa",
   "metadata": {},
   "outputs": [],
   "source": [
    "data[\"word_count\"] = data[\"cleaned_messsage\"].apply(count_takens)"
   ]
  },
  {
   "cell_type": "code",
   "execution_count": 24,
   "id": "24e0f430",
   "metadata": {},
   "outputs": [
    {
     "data": {
      "text/html": [
       "<div>\n",
       "<style scoped>\n",
       "    .dataframe tbody tr th:only-of-type {\n",
       "        vertical-align: middle;\n",
       "    }\n",
       "\n",
       "    .dataframe tbody tr th {\n",
       "        vertical-align: top;\n",
       "    }\n",
       "\n",
       "    .dataframe thead th {\n",
       "        text-align: right;\n",
       "    }\n",
       "</style>\n",
       "<table border=\"1\" class=\"dataframe\">\n",
       "  <thead>\n",
       "    <tr style=\"text-align: right;\">\n",
       "      <th></th>\n",
       "      <th>sentiment</th>\n",
       "      <th>message</th>\n",
       "      <th>cleaned_messsage</th>\n",
       "      <th>word_count</th>\n",
       "    </tr>\n",
       "  </thead>\n",
       "  <tbody>\n",
       "    <tr>\n",
       "      <th>0</th>\n",
       "      <td>Bullish</td>\n",
       "      <td>$AAPL $SPY $TQQQ $SOXL $AMZN \\n🤑 V shape recov...</td>\n",
       "      <td>money mouth face v shape recovery monday rocke...</td>\n",
       "      <td>36</td>\n",
       "    </tr>\n",
       "    <tr>\n",
       "      <th>1</th>\n",
       "      <td>Bullish</td>\n",
       "      <td>$AAPL $SPY $AMZN $TQQQ $SOXL \\nApple Is Seeing...</td>\n",
       "      <td>apple seeing strong china demand iphones analy...</td>\n",
       "      <td>9</td>\n",
       "    </tr>\n",
       "  </tbody>\n",
       "</table>\n",
       "</div>"
      ],
      "text/plain": [
       "  sentiment                                            message  \\\n",
       "0   Bullish  $AAPL $SPY $TQQQ $SOXL $AMZN \\n🤑 V shape recov...   \n",
       "1   Bullish  $AAPL $SPY $AMZN $TQQQ $SOXL \\nApple Is Seeing...   \n",
       "\n",
       "                                    cleaned_messsage  word_count  \n",
       "0  money mouth face v shape recovery monday rocke...          36  \n",
       "1  apple seeing strong china demand iphones analy...           9  "
      ]
     },
     "execution_count": 24,
     "metadata": {},
     "output_type": "execute_result"
    }
   ],
   "source": [
    "data.head(2)"
   ]
  },
  {
   "cell_type": "code",
   "execution_count": 25,
   "id": "56c9cc05",
   "metadata": {},
   "outputs": [
    {
     "data": {
      "text/plain": [
       "count    4102.000000\n",
       "mean       13.448805\n",
       "std        15.155093\n",
       "min         0.000000\n",
       "25%         4.000000\n",
       "50%         9.000000\n",
       "75%        17.000000\n",
       "max       155.000000\n",
       "Name: word_count, dtype: float64"
      ]
     },
     "execution_count": 25,
     "metadata": {},
     "output_type": "execute_result"
    }
   ],
   "source": [
    "data[\"word_count\"].describe()"
   ]
  },
  {
   "cell_type": "code",
   "execution_count": 26,
   "id": "0c0dde5e",
   "metadata": {},
   "outputs": [],
   "source": [
    "cleaned_data = data[data[\"word_count\"]>3].copy(deep=True)\n",
    "cleaned_data.reset_index(0, drop=True, inplace=True)"
   ]
  },
  {
   "cell_type": "code",
   "execution_count": 27,
   "id": "a26dacbc",
   "metadata": {},
   "outputs": [
    {
     "data": {
      "text/html": [
       "<div>\n",
       "<style scoped>\n",
       "    .dataframe tbody tr th:only-of-type {\n",
       "        vertical-align: middle;\n",
       "    }\n",
       "\n",
       "    .dataframe tbody tr th {\n",
       "        vertical-align: top;\n",
       "    }\n",
       "\n",
       "    .dataframe thead th {\n",
       "        text-align: right;\n",
       "    }\n",
       "</style>\n",
       "<table border=\"1\" class=\"dataframe\">\n",
       "  <thead>\n",
       "    <tr style=\"text-align: right;\">\n",
       "      <th></th>\n",
       "      <th>sentiment</th>\n",
       "      <th>message</th>\n",
       "      <th>cleaned_messsage</th>\n",
       "      <th>word_count</th>\n",
       "    </tr>\n",
       "  </thead>\n",
       "  <tbody>\n",
       "    <tr>\n",
       "      <th>count</th>\n",
       "      <td>3240</td>\n",
       "      <td>3240</td>\n",
       "      <td>3240</td>\n",
       "      <td>3240.000000</td>\n",
       "    </tr>\n",
       "    <tr>\n",
       "      <th>unique</th>\n",
       "      <td>2</td>\n",
       "      <td>2914</td>\n",
       "      <td>2900</td>\n",
       "      <td>NaN</td>\n",
       "    </tr>\n",
       "    <tr>\n",
       "      <th>top</th>\n",
       "      <td>Bullish</td>\n",
       "      <td>$RS Twits Stats Today&amp;#39;s Change 9% + 🚀 http...</td>\n",
       "      <td>tweet stats today s change rocket https t8sk c...</td>\n",
       "      <td>NaN</td>\n",
       "    </tr>\n",
       "    <tr>\n",
       "      <th>freq</th>\n",
       "      <td>2386</td>\n",
       "      <td>7</td>\n",
       "      <td>7</td>\n",
       "      <td>NaN</td>\n",
       "    </tr>\n",
       "    <tr>\n",
       "      <th>mean</th>\n",
       "      <td>NaN</td>\n",
       "      <td>NaN</td>\n",
       "      <td>NaN</td>\n",
       "      <td>16.563272</td>\n",
       "    </tr>\n",
       "    <tr>\n",
       "      <th>std</th>\n",
       "      <td>NaN</td>\n",
       "      <td>NaN</td>\n",
       "      <td>NaN</td>\n",
       "      <td>15.630705</td>\n",
       "    </tr>\n",
       "    <tr>\n",
       "      <th>min</th>\n",
       "      <td>NaN</td>\n",
       "      <td>NaN</td>\n",
       "      <td>NaN</td>\n",
       "      <td>4.000000</td>\n",
       "    </tr>\n",
       "    <tr>\n",
       "      <th>25%</th>\n",
       "      <td>NaN</td>\n",
       "      <td>NaN</td>\n",
       "      <td>NaN</td>\n",
       "      <td>7.000000</td>\n",
       "    </tr>\n",
       "    <tr>\n",
       "      <th>50%</th>\n",
       "      <td>NaN</td>\n",
       "      <td>NaN</td>\n",
       "      <td>NaN</td>\n",
       "      <td>11.000000</td>\n",
       "    </tr>\n",
       "    <tr>\n",
       "      <th>75%</th>\n",
       "      <td>NaN</td>\n",
       "      <td>NaN</td>\n",
       "      <td>NaN</td>\n",
       "      <td>20.000000</td>\n",
       "    </tr>\n",
       "    <tr>\n",
       "      <th>max</th>\n",
       "      <td>NaN</td>\n",
       "      <td>NaN</td>\n",
       "      <td>NaN</td>\n",
       "      <td>155.000000</td>\n",
       "    </tr>\n",
       "  </tbody>\n",
       "</table>\n",
       "</div>"
      ],
      "text/plain": [
       "       sentiment                                            message  \\\n",
       "count       3240                                               3240   \n",
       "unique         2                                               2914   \n",
       "top      Bullish  $RS Twits Stats Today&#39;s Change 9% + 🚀 http...   \n",
       "freq        2386                                                  7   \n",
       "mean         NaN                                                NaN   \n",
       "std          NaN                                                NaN   \n",
       "min          NaN                                                NaN   \n",
       "25%          NaN                                                NaN   \n",
       "50%          NaN                                                NaN   \n",
       "75%          NaN                                                NaN   \n",
       "max          NaN                                                NaN   \n",
       "\n",
       "                                         cleaned_messsage   word_count  \n",
       "count                                                3240  3240.000000  \n",
       "unique                                               2900          NaN  \n",
       "top     tweet stats today s change rocket https t8sk c...          NaN  \n",
       "freq                                                    7          NaN  \n",
       "mean                                                  NaN    16.563272  \n",
       "std                                                   NaN    15.630705  \n",
       "min                                                   NaN     4.000000  \n",
       "25%                                                   NaN     7.000000  \n",
       "50%                                                   NaN    11.000000  \n",
       "75%                                                   NaN    20.000000  \n",
       "max                                                   NaN   155.000000  "
      ]
     },
     "execution_count": 27,
     "metadata": {},
     "output_type": "execute_result"
    }
   ],
   "source": [
    "cleaned_data.describe(include=\"all\")"
   ]
  },
  {
   "cell_type": "code",
   "execution_count": 28,
   "id": "84771259",
   "metadata": {},
   "outputs": [
    {
     "name": "stdout",
     "output_type": "stream",
     "text": [
      "326\n"
     ]
    }
   ],
   "source": [
    "# duplicates\n",
    "print(cleaned_data.duplicated().sum())\n",
    "\n",
    "# remove duplicates\n",
    "cleaned_data.drop_duplicates(inplace=True, ignore_index=True)"
   ]
  },
  {
   "cell_type": "code",
   "execution_count": 29,
   "id": "f9534e4c",
   "metadata": {},
   "outputs": [
    {
     "data": {
      "text/html": [
       "<div>\n",
       "<style scoped>\n",
       "    .dataframe tbody tr th:only-of-type {\n",
       "        vertical-align: middle;\n",
       "    }\n",
       "\n",
       "    .dataframe tbody tr th {\n",
       "        vertical-align: top;\n",
       "    }\n",
       "\n",
       "    .dataframe thead th {\n",
       "        text-align: right;\n",
       "    }\n",
       "</style>\n",
       "<table border=\"1\" class=\"dataframe\">\n",
       "  <thead>\n",
       "    <tr style=\"text-align: right;\">\n",
       "      <th></th>\n",
       "      <th>sentiment</th>\n",
       "    </tr>\n",
       "    <tr>\n",
       "      <th>sentiment</th>\n",
       "      <th></th>\n",
       "    </tr>\n",
       "  </thead>\n",
       "  <tbody>\n",
       "    <tr>\n",
       "      <th>Bearish</th>\n",
       "      <td>771</td>\n",
       "    </tr>\n",
       "    <tr>\n",
       "      <th>Bullish</th>\n",
       "      <td>2143</td>\n",
       "    </tr>\n",
       "  </tbody>\n",
       "</table>\n",
       "</div>"
      ],
      "text/plain": [
       "           sentiment\n",
       "sentiment           \n",
       "Bearish          771\n",
       "Bullish         2143"
      ]
     },
     "execution_count": 29,
     "metadata": {},
     "output_type": "execute_result"
    }
   ],
   "source": [
    "cleaned_data.groupby(\"sentiment\").agg({\"sentiment\": \"count\"})"
   ]
  },
  {
   "cell_type": "code",
   "execution_count": null,
   "id": "671eddb1",
   "metadata": {},
   "outputs": [],
   "source": []
  },
  {
   "cell_type": "code",
   "execution_count": 31,
   "id": "6c404326",
   "metadata": {},
   "outputs": [],
   "source": [
    "import nltk\n",
    "# nltk.download('wordnet')\n",
    "\n",
    "# import these modules\n",
    "from nltk.stem import WordNetLemmatizer\n",
    "lemmatizer = WordNetLemmatizer()\n",
    "\n",
    "def lemmatize_text(text):\n",
    "    return \" \".join([lemmatizer.lemmatize(i) for i in text.split()])"
   ]
  },
  {
   "cell_type": "code",
   "execution_count": 32,
   "id": "2294c0b2",
   "metadata": {},
   "outputs": [],
   "source": [
    "cleaned_data[\"lem_clean_messsage\"] = cleaned_data[\"cleaned_messsage\"].apply(lemmatize_text)"
   ]
  },
  {
   "cell_type": "code",
   "execution_count": 33,
   "id": "1be5433f",
   "metadata": {},
   "outputs": [
    {
     "data": {
      "text/html": [
       "<div>\n",
       "<style scoped>\n",
       "    .dataframe tbody tr th:only-of-type {\n",
       "        vertical-align: middle;\n",
       "    }\n",
       "\n",
       "    .dataframe tbody tr th {\n",
       "        vertical-align: top;\n",
       "    }\n",
       "\n",
       "    .dataframe thead th {\n",
       "        text-align: right;\n",
       "    }\n",
       "</style>\n",
       "<table border=\"1\" class=\"dataframe\">\n",
       "  <thead>\n",
       "    <tr style=\"text-align: right;\">\n",
       "      <th></th>\n",
       "      <th>sentiment</th>\n",
       "      <th>message</th>\n",
       "      <th>cleaned_messsage</th>\n",
       "      <th>word_count</th>\n",
       "      <th>lem_clean_messsage</th>\n",
       "    </tr>\n",
       "  </thead>\n",
       "  <tbody>\n",
       "    <tr>\n",
       "      <th>0</th>\n",
       "      <td>Bullish</td>\n",
       "      <td>$AAPL $SPY $TQQQ $SOXL $AMZN \\n🤑 V shape recov...</td>\n",
       "      <td>money mouth face v shape recovery monday rocke...</td>\n",
       "      <td>36</td>\n",
       "      <td>money mouth face v shape recovery monday rocke...</td>\n",
       "    </tr>\n",
       "    <tr>\n",
       "      <th>1</th>\n",
       "      <td>Bullish</td>\n",
       "      <td>$AAPL $SPY $AMZN $TQQQ $SOXL \\nApple Is Seeing...</td>\n",
       "      <td>apple seeing strong china demand iphones analy...</td>\n",
       "      <td>9</td>\n",
       "      <td>apple seeing strong china demand iphones analy...</td>\n",
       "    </tr>\n",
       "    <tr>\n",
       "      <th>2</th>\n",
       "      <td>Bullish</td>\n",
       "      <td>$AMZN $SPY $AAPL $GOOGL $TQQQ \\n🎉 Wow~ Amazon&amp;...</td>\n",
       "      <td>party popper wow amazon new pt market turn mon...</td>\n",
       "      <td>11</td>\n",
       "      <td>party popper wow amazon new pt market turn mon...</td>\n",
       "    </tr>\n",
       "    <tr>\n",
       "      <th>3</th>\n",
       "      <td>Bullish</td>\n",
       "      <td>$SPY $GOOGL $AMZN $AAPL $TQQQ\\nWow~~ Google PT...</td>\n",
       "      <td>wow google pt goldman sachs confetti ball part...</td>\n",
       "      <td>15</td>\n",
       "      <td>wow google pt goldman sachs confetti ball part...</td>\n",
       "    </tr>\n",
       "    <tr>\n",
       "      <th>4</th>\n",
       "      <td>Bearish</td>\n",
       "      <td>$BTC.X $SPY $DWAC $AAPL $TSLA \\n\\nNever undere...</td>\n",
       "      <td>btc x underestimate clown s clown face ability...</td>\n",
       "      <td>10</td>\n",
       "      <td>btc x underestimate clown s clown face ability...</td>\n",
       "    </tr>\n",
       "  </tbody>\n",
       "</table>\n",
       "</div>"
      ],
      "text/plain": [
       "  sentiment                                            message  \\\n",
       "0   Bullish  $AAPL $SPY $TQQQ $SOXL $AMZN \\n🤑 V shape recov...   \n",
       "1   Bullish  $AAPL $SPY $AMZN $TQQQ $SOXL \\nApple Is Seeing...   \n",
       "2   Bullish  $AMZN $SPY $AAPL $GOOGL $TQQQ \\n🎉 Wow~ Amazon&...   \n",
       "3   Bullish  $SPY $GOOGL $AMZN $AAPL $TQQQ\\nWow~~ Google PT...   \n",
       "4   Bearish  $BTC.X $SPY $DWAC $AAPL $TSLA \\n\\nNever undere...   \n",
       "\n",
       "                                    cleaned_messsage  word_count  \\\n",
       "0  money mouth face v shape recovery monday rocke...          36   \n",
       "1  apple seeing strong china demand iphones analy...           9   \n",
       "2  party popper wow amazon new pt market turn mon...          11   \n",
       "3  wow google pt goldman sachs confetti ball part...          15   \n",
       "4  btc x underestimate clown s clown face ability...          10   \n",
       "\n",
       "                                  lem_clean_messsage  \n",
       "0  money mouth face v shape recovery monday rocke...  \n",
       "1  apple seeing strong china demand iphones analy...  \n",
       "2  party popper wow amazon new pt market turn mon...  \n",
       "3  wow google pt goldman sachs confetti ball part...  \n",
       "4  btc x underestimate clown s clown face ability...  "
      ]
     },
     "execution_count": 33,
     "metadata": {},
     "output_type": "execute_result"
    }
   ],
   "source": [
    "cleaned_data.head()"
   ]
  },
  {
   "cell_type": "code",
   "execution_count": 34,
   "id": "d0e0eae4",
   "metadata": {},
   "outputs": [
    {
     "data": {
      "text/plain": [
       "('bulls monday tuesday fade fomc opex', 'bull monday tuesday fade fomc opex')"
      ]
     },
     "execution_count": 34,
     "metadata": {},
     "output_type": "execute_result"
    }
   ],
   "source": [
    "cleaned_data.loc[6][\"cleaned_messsage\"], cleaned_data.loc[6][\"lem_clean_messsage\"]"
   ]
  },
  {
   "cell_type": "code",
   "execution_count": 102,
   "id": "b252b3fd",
   "metadata": {},
   "outputs": [],
   "source": [
    "# cleaned_data.rename(columns={\"lem_clean_messsage\": \"tweet\"}, inplace=True)\n",
    "\n",
    "# cleaned_data.to_csv(\"./data/cleaned_data.csv\", columns=[\"tweet\", \"sentiment\"], index=False)"
   ]
  },
  {
   "cell_type": "code",
   "execution_count": null,
   "id": "71c0ba23",
   "metadata": {},
   "outputs": [],
   "source": []
  }
 ],
 "metadata": {
  "kernelspec": {
   "display_name": "Python 3 (ipykernel)",
   "language": "python",
   "name": "python3"
  },
  "language_info": {
   "codemirror_mode": {
    "name": "ipython",
    "version": 3
   },
   "file_extension": ".py",
   "mimetype": "text/x-python",
   "name": "python",
   "nbconvert_exporter": "python",
   "pygments_lexer": "ipython3",
   "version": "3.9.7"
  }
 },
 "nbformat": 4,
 "nbformat_minor": 5
}
